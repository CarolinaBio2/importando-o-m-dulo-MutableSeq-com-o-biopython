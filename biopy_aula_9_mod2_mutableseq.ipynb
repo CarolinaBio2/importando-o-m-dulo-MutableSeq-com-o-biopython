{
  "nbformat": 4,
  "nbformat_minor": 0,
  "metadata": {
    "colab": {
      "provenance": [],
      "authorship_tag": "ABX9TyNjrdyjgOKSD8f0GqOEMmNi",
      "include_colab_link": true
    },
    "kernelspec": {
      "name": "python3",
      "display_name": "Python 3"
    },
    "language_info": {
      "name": "python"
    }
  },
  "cells": [
    {
      "cell_type": "markdown",
      "metadata": {
        "id": "view-in-github",
        "colab_type": "text"
      },
      "source": [
        "<a href=\"https://colab.research.google.com/github/CarolinaBio2/importando-o-m-dulo-MutableSeq-com-o-biopython/blob/main/biopy_aula_9_mod2_mutableseq.ipynb\" target=\"_parent\"><img src=\"https://colab.research.google.com/assets/colab-badge.svg\" alt=\"Open In Colab\"/></a>"
      ]
    },
    {
      "cell_type": "code",
      "execution_count": null,
      "metadata": {
        "colab": {
          "base_uri": "https://localhost:8080/"
        },
        "id": "gS6D9Aqe6V8D",
        "outputId": "bf4eba44-f93b-4629-9af0-c63598a4e727"
      },
      "outputs": [
        {
          "output_type": "stream",
          "name": "stdout",
          "text": [
            "Collecting biopython\n",
            "  Downloading biopython-1.84-cp310-cp310-manylinux_2_17_x86_64.manylinux2014_x86_64.whl.metadata (12 kB)\n",
            "Requirement already satisfied: numpy in /usr/local/lib/python3.10/dist-packages (from biopython) (1.26.4)\n",
            "Downloading biopython-1.84-cp310-cp310-manylinux_2_17_x86_64.manylinux2014_x86_64.whl (3.2 MB)\n",
            "\u001b[2K   \u001b[90m━━━━━━━━━━━━━━━━━━━━━━━━━━━━━━━━━━━━━━━━\u001b[0m \u001b[32m3.2/3.2 MB\u001b[0m \u001b[31m23.5 MB/s\u001b[0m eta \u001b[36m0:00:00\u001b[0m\n",
            "\u001b[?25hInstalling collected packages: biopython\n",
            "Successfully installed biopython-1.84\n"
          ]
        }
      ],
      "source": [
        "pip install biopython"
      ]
    },
    {
      "cell_type": "code",
      "source": [
        "import  Bio"
      ],
      "metadata": {
        "id": "wYHgUjGq60yq"
      },
      "execution_count": null,
      "outputs": []
    },
    {
      "cell_type": "code",
      "source": [
        "from Bio.Seq import Seq\n",
        "from Bio.Seq import MutableSeq"
      ],
      "metadata": {
        "id": "ERx6KGRh7Fb6"
      },
      "execution_count": null,
      "outputs": []
    },
    {
      "cell_type": "code",
      "source": [
        "#MutableSeq, Transcrição e Tradução\n",
        "myseq = Seq(\"ATCG\")\n",
        "print(type(myseq)) #sequência antes de ser mutável\n",
        "myseq_mutable = MutableSeq(\"ATCG\") #transformando a sequência em uma sequência mutável; agora é possível fazer alterações nela\n",
        "print(myseq_mutable)\n",
        "myseq_mutable.remove('C')\n",
        "print(type(myseq_mutable)) #sequência depois de ser mutável"
      ],
      "metadata": {
        "colab": {
          "base_uri": "https://localhost:8080/"
        },
        "id": "PG2QYstU7Xg4",
        "outputId": "f8c87a28-de6d-43f6-8075-aba9e5ab4977"
      },
      "execution_count": null,
      "outputs": [
        {
          "output_type": "stream",
          "name": "stdout",
          "text": [
            "<class 'Bio.Seq.Seq'>\n",
            "ATCG\n",
            "<class 'Bio.Seq.MutableSeq'>\n"
          ]
        }
      ]
    },
    {
      "cell_type": "code",
      "source": [
        "#Transcrição\n",
        "cds = Seq(\"ATGGGG\")\n",
        "mRNA_transcribed = cds.transcribe() #definindo uma seq de mRNA transcrita e chamando o comando que permite a transcrição\n",
        "print(mRNA_transcribed) #na transcrição, a base U entra no lugar da base T\n",
        "mRNA_replaced = cds.replace(\"T\", \"U\") #outra forma de fazer a transcrição\n",
        "print(mRNA_replaced)"
      ],
      "metadata": {
        "colab": {
          "base_uri": "https://localhost:8080/"
        },
        "id": "F-rjGEwcB0uM",
        "outputId": "6d3bf435-a31d-4a21-e7e8-e475c59f4944"
      },
      "execution_count": null,
      "outputs": [
        {
          "output_type": "stream",
          "name": "stdout",
          "text": [
            "AUGGGG\n",
            "AUGGGG\n"
          ]
        }
      ]
    },
    {
      "cell_type": "code",
      "source": [
        "#Transcrição reversa\n",
        "mRNA = Seq(\"AUUGGG\")\n",
        "dna = mRNA.back_transcribe() #definindo uma variável dna e chamando o comando back, que permitirá a transcrição reversa\n",
        "print(dna)\n",
        "#outra opção é o método replace\n",
        "dna_replaced = mRNA.replace(\"U\", \"T\")\n",
        "print(dna_replaced)"
      ],
      "metadata": {
        "colab": {
          "base_uri": "https://localhost:8080/"
        },
        "id": "NJZWhriBEC7a",
        "outputId": "f6b69583-96cf-4a76-9b44-f1b41d8888a4"
      },
      "execution_count": null,
      "outputs": [
        {
          "output_type": "stream",
          "name": "stdout",
          "text": [
            "ATTGGG\n",
            "ATTGGG\n"
          ]
        }
      ]
    },
    {
      "cell_type": "code",
      "source": [
        "#Reverso complemento\n",
        "cds = Seq(\"ATCG\") #codificada na fita 3'-'5 (antisenso)\n",
        "#5' - ATCG - 3'\n",
        "#3' - TAGC - 5'  5'CGAT - 3'  esta segunda é fita reverso complemento\n",
        "complement = cds.complement()\n",
        "print(complement)\n",
        "reverse_complement = cds.reverse_complement()\n",
        "print(reverse_complement)"
      ],
      "metadata": {
        "colab": {
          "base_uri": "https://localhost:8080/"
        },
        "id": "KJnVfMe-Fd4m",
        "outputId": "1c434249-e7ca-4807-b217-61b8d53ca7eb"
      },
      "execution_count": null,
      "outputs": [
        {
          "output_type": "stream",
          "name": "stdout",
          "text": [
            "TAGC\n",
            "CGAT\n"
          ]
        }
      ]
    },
    {
      "cell_type": "code",
      "source": [
        "#Tradução\n",
        "mRNA = Seq(\"AUCGUAAUGUAACAUAUAGTAG\")\n",
        "proteina = mRNA.translate() #comando para traduzir\n",
        "print(proteina)\n",
        "\n",
        "dna = mRNA.back_transcribe()\n",
        "dna = Seq(\"ATCGTACTGTCAATCTCGCTGTCATAG\")\n",
        "proteina2 = dna.translate()\n",
        "#proteina2 = dna.translate(table=11, to_stop=True) #traduzir somente até o stop códon-assumindo o to stop como true\n",
        "#proteina2 = dna.translate(table=\"Bacterial\", cds=True) #se declaramos que é uma cds (true), assumimos que não haverá stop códons no meio, e que não haverá mais sequências depois dele, se não a tradução não é feita; nesse caso temos então que assumir que não é uma cds, a declarando como false\n",
        "proteina2 = dna.translate(table=11, cds=True) #tabela 11 corresponde a bactérias na tabela de códons\n",
        "print(proteina2)\n",
        "#Pra tentar corrigir o erro que estava dando nos stop codons eu mexi nas seq de mRNA e dna e acabei criando proteínas diferentes de cada sequência"
      ],
      "metadata": {
        "colab": {
          "base_uri": "https://localhost:8080/"
        },
        "id": "SuPnHd6fIhFJ",
        "outputId": "8bf88a3a-af22-4a77-d08e-1c58c30bcb80"
      },
      "execution_count": null,
      "outputs": [
        {
          "output_type": "stream",
          "name": "stdout",
          "text": [
            "IVM*HIV\n",
            "MVLSISLS\n"
          ]
        }
      ]
    }
  ]
}